{
 "cells": [
  {
   "cell_type": "code",
   "execution_count": 4,
   "id": "759ebeb7-6758-496d-ac21-23757b3c2010",
   "metadata": {},
   "outputs": [
    {
     "name": "stdout",
     "output_type": "stream",
     "text": [
      "Requirement already satisfied: rdflib in /Applications/Anaconda/anaconda3/lib/python3.8/site-packages (6.0.2)\n",
      "Requirement already satisfied: isodate in /Applications/Anaconda/anaconda3/lib/python3.8/site-packages (from rdflib) (0.6.0)\n",
      "Requirement already satisfied: setuptools in /Applications/Anaconda/anaconda3/lib/python3.8/site-packages (from rdflib) (52.0.0.post20210125)\n",
      "Requirement already satisfied: pyparsing in /Applications/Anaconda/anaconda3/lib/python3.8/site-packages (from rdflib) (2.4.7)\n",
      "Requirement already satisfied: six in /Applications/Anaconda/anaconda3/lib/python3.8/site-packages (from isodate->rdflib) (1.15.0)\n",
      "Note: you may need to restart the kernel to use updated packages.\n"
     ]
    }
   ],
   "source": [
    "pip install rdflib"
   ]
  },
  {
   "cell_type": "code",
   "execution_count": 6,
   "id": "097cece6-3f68-4cf6-9784-aebd8ce4b608",
   "metadata": {},
   "outputs": [
    {
     "name": "stdout",
     "output_type": "stream",
     "text": [
      "Requirement already satisfied: rdflib in /Applications/Anaconda/anaconda3/lib/python3.8/site-packages (6.0.2)\n",
      "Requirement already satisfied: pyparsing in /Applications/Anaconda/anaconda3/lib/python3.8/site-packages (from rdflib) (2.4.7)\n",
      "Requirement already satisfied: isodate in /Applications/Anaconda/anaconda3/lib/python3.8/site-packages (from rdflib) (0.6.0)\n",
      "Requirement already satisfied: setuptools in /Applications/Anaconda/anaconda3/lib/python3.8/site-packages (from rdflib) (52.0.0.post20210125)\n",
      "Requirement already satisfied: six in /Applications/Anaconda/anaconda3/lib/python3.8/site-packages (from isodate->rdflib) (1.15.0)\n",
      "Note: you may need to restart the kernel to use updated packages.\n"
     ]
    }
   ],
   "source": [
    "pip install rdflib"
   ]
  },
  {
   "cell_type": "code",
   "execution_count": 7,
   "id": "9e04f351-670f-41bf-ae69-03d7f23c330e",
   "metadata": {},
   "outputs": [
    {
     "name": "stdout",
     "output_type": "stream",
     "text": [
      "\u001b[31mERROR: Could not find a version that satisfies the requirement pprint\u001b[0m\n",
      "\u001b[31mERROR: No matching distribution found for pprint\u001b[0m\n",
      "Note: you may need to restart the kernel to use updated packages.\n"
     ]
    }
   ],
   "source": [
    "pip install pprint"
   ]
  },
  {
   "cell_type": "code",
   "execution_count": 8,
   "id": "4fb0a677-bbf5-486a-9bed-9ba00936534f",
   "metadata": {},
   "outputs": [],
   "source": [
    "import pprint"
   ]
  },
  {
   "cell_type": "code",
   "execution_count": 9,
   "id": "097611fe-064b-4578-a40a-22c8ba2a9f7b",
   "metadata": {},
   "outputs": [
    {
     "name": "stdout",
     "output_type": "stream",
     "text": [
      "Collecting package metadata (current_repodata.json): done\n",
      "Solving environment: failed with initial frozen solve. Retrying with flexible solve.\n",
      "Collecting package metadata (repodata.json): done\n",
      "Solving environment: failed with initial frozen solve. Retrying with flexible solve.\n",
      "\n",
      "PackagesNotFoundError: The following packages are not available from current channels:\n",
      "\n",
      "  - pprint\n",
      "\n",
      "Current channels:\n",
      "\n",
      "  - https://repo.anaconda.com/pkgs/main/osx-64\n",
      "  - https://repo.anaconda.com/pkgs/main/noarch\n",
      "  - https://repo.anaconda.com/pkgs/r/osx-64\n",
      "  - https://repo.anaconda.com/pkgs/r/noarch\n",
      "\n",
      "To search for alternate channels that may provide the conda package you're\n",
      "looking for, navigate to\n",
      "\n",
      "    https://anaconda.org\n",
      "\n",
      "and use the search bar at the top of the page.\n",
      "\n",
      "\n",
      "\n",
      "Note: you may need to restart the kernel to use updated packages.\n"
     ]
    }
   ],
   "source": [
    "conda install pprint"
   ]
  },
  {
   "cell_type": "code",
   "execution_count": 10,
   "id": "3698791a-86c4-4e11-8c47-a45edf621cf4",
   "metadata": {},
   "outputs": [],
   "source": [
    "import pprint\n",
    "import rdflib\n",
    "from rdflib import URIRef, Literal, Namespace\n",
    "from rdflib.namespace import XSD, RDFS, DCTERMS\n",
    "from rdflib import Literal"
   ]
  },
  {
   "cell_type": "code",
   "execution_count": 11,
   "id": "558449b0-94f0-4c6a-800b-0dec333cee9d",
   "metadata": {},
   "outputs": [],
   "source": [
    "subj1 = '<http://example.org/robert_capa>'\n",
    "subj2 = '<http://example.org/gerda_taro>'\n",
    "pred1 = '<http://example.org/knows>'\n",
    "pred2 = '<http://example.org/hasSpouse>'\n",
    "obj1 = '<http://example.org/henri_cartier_bresson>'"
   ]
  },
  {
   "cell_type": "markdown",
   "id": "e46050c2-042b-457f-99e3-98edd383ab7d",
   "metadata": {},
   "source": [
    "the basic behaviour in RDFlib"
   ]
  },
  {
   "cell_type": "code",
   "execution_count": 12,
   "id": "734f788d-d650-4352-b604-6a626e2878eb",
   "metadata": {},
   "outputs": [],
   "source": [
    "example_graph = [\n",
    "    (subj1, pred1, obj1),\n",
    "    (subj2, pred2, subj1)\n",
    "]"
   ]
  },
  {
   "cell_type": "code",
   "execution_count": 13,
   "id": "0dab33d9-4a91-48b3-ac2e-53cb9b704491",
   "metadata": {},
   "outputs": [
    {
     "name": "stdout",
     "output_type": "stream",
     "text": [
      "[('<http://example.org/robert_capa>', '<http://example.org/knows>', '<http://example.org/henri_cartier_bresson>'), ('<http://example.org/gerda_taro>', '<http://example.org/hasSpouse>', '<http://example.org/robert_capa>')]\n"
     ]
    }
   ],
   "source": [
    "print (example_graph)"
   ]
  },
  {
   "cell_type": "code",
   "execution_count": 15,
   "id": "92a4f22d-a8cb-486a-a56c-a2bf6542d74d",
   "metadata": {},
   "outputs": [
    {
     "name": "stdout",
     "output_type": "stream",
     "text": [
      "2\n"
     ]
    }
   ],
   "source": [
    "example_data = \"\"\"\n",
    "    <http://example.org/robert_capa> <http://example.org/knows> <http://example.org/henri_cartier_bresson> .\n",
    "    <http://example.org/gerda_taro> <http://example.org/hasSpouse> <http://example.org/robert_capa> .\n",
    "    \"\"\"\n",
    "\n",
    "example_g = rdflib.Graph()\n",
    "example_result = example_g.parse(data=example_data, format='nt')\n",
    "\n",
    "# get the number of statements (triples)\n",
    "print(len(example_g))"
   ]
  },
  {
   "cell_type": "code",
   "execution_count": 23,
   "id": "6df0c8ce-f9bc-4376-8ad7-9b38acbc4f6c",
   "metadata": {},
   "outputs": [
    {
     "ename": "ParserError",
     "evalue": "Invalid line (Failed to eat <([^:]+:[^\\s\"<>]*)> at <!DOCTYPE html>):\n'<!DOCTYPE html>'",
     "output_type": "error",
     "traceback": [
      "\u001b[0;31m---------------------------------------------------------------------------\u001b[0m",
      "\u001b[0;31mParserError\u001b[0m                               Traceback (most recent call last)",
      "\u001b[0;32m/Applications/Anaconda/anaconda3/lib/python3.8/site-packages/rdflib/plugins/parsers/nquads.py\u001b[0m in \u001b[0;36mparse\u001b[0;34m(self, inputsource, sink, bnode_context, **kwargs)\u001b[0m\n\u001b[1;32m     71\u001b[0m             \u001b[0;32mtry\u001b[0m\u001b[0;34m:\u001b[0m\u001b[0;34m\u001b[0m\u001b[0;34m\u001b[0m\u001b[0m\n\u001b[0;32m---> 72\u001b[0;31m                 \u001b[0mself\u001b[0m\u001b[0;34m.\u001b[0m\u001b[0mparseline\u001b[0m\u001b[0;34m(\u001b[0m\u001b[0mbnode_context\u001b[0m\u001b[0;34m)\u001b[0m\u001b[0;34m\u001b[0m\u001b[0;34m\u001b[0m\u001b[0m\n\u001b[0m\u001b[1;32m     73\u001b[0m             \u001b[0;32mexcept\u001b[0m \u001b[0mParseError\u001b[0m \u001b[0;32mas\u001b[0m \u001b[0mmsg\u001b[0m\u001b[0;34m:\u001b[0m\u001b[0;34m\u001b[0m\u001b[0;34m\u001b[0m\u001b[0m\n",
      "\u001b[0;32m/Applications/Anaconda/anaconda3/lib/python3.8/site-packages/rdflib/plugins/parsers/nquads.py\u001b[0m in \u001b[0;36mparseline\u001b[0;34m(self, bnode_context)\u001b[0m\n\u001b[1;32m     82\u001b[0m \u001b[0;34m\u001b[0m\u001b[0m\n\u001b[0;32m---> 83\u001b[0;31m         \u001b[0msubject\u001b[0m \u001b[0;34m=\u001b[0m \u001b[0mself\u001b[0m\u001b[0;34m.\u001b[0m\u001b[0msubject\u001b[0m\u001b[0;34m(\u001b[0m\u001b[0mbnode_context\u001b[0m\u001b[0;34m)\u001b[0m\u001b[0;34m\u001b[0m\u001b[0;34m\u001b[0m\u001b[0m\n\u001b[0m\u001b[1;32m     84\u001b[0m         \u001b[0mself\u001b[0m\u001b[0;34m.\u001b[0m\u001b[0meat\u001b[0m\u001b[0;34m(\u001b[0m\u001b[0mr_wspace\u001b[0m\u001b[0;34m)\u001b[0m\u001b[0;34m\u001b[0m\u001b[0;34m\u001b[0m\u001b[0m\n",
      "\u001b[0;32m/Applications/Anaconda/anaconda3/lib/python3.8/site-packages/rdflib/plugins/parsers/ntriples.py\u001b[0m in \u001b[0;36msubject\u001b[0;34m(self, bnode_context)\u001b[0m\n\u001b[1;32m    232\u001b[0m         \u001b[0;31m# @@ Consider using dictionary cases\u001b[0m\u001b[0;34m\u001b[0m\u001b[0;34m\u001b[0m\u001b[0;34m\u001b[0m\u001b[0m\n\u001b[0;32m--> 233\u001b[0;31m         \u001b[0msubj\u001b[0m \u001b[0;34m=\u001b[0m \u001b[0mself\u001b[0m\u001b[0;34m.\u001b[0m\u001b[0muriref\u001b[0m\u001b[0;34m(\u001b[0m\u001b[0;34m)\u001b[0m \u001b[0;32mor\u001b[0m \u001b[0mself\u001b[0m\u001b[0;34m.\u001b[0m\u001b[0mnodeid\u001b[0m\u001b[0;34m(\u001b[0m\u001b[0mbnode_context\u001b[0m\u001b[0;34m)\u001b[0m\u001b[0;34m\u001b[0m\u001b[0;34m\u001b[0m\u001b[0m\n\u001b[0m\u001b[1;32m    234\u001b[0m         \u001b[0;32mif\u001b[0m \u001b[0;32mnot\u001b[0m \u001b[0msubj\u001b[0m\u001b[0;34m:\u001b[0m\u001b[0;34m\u001b[0m\u001b[0;34m\u001b[0m\u001b[0m\n",
      "\u001b[0;32m/Applications/Anaconda/anaconda3/lib/python3.8/site-packages/rdflib/plugins/parsers/ntriples.py\u001b[0m in \u001b[0;36muriref\u001b[0;34m(self)\u001b[0m\n\u001b[1;32m    251\u001b[0m         \u001b[0;32mif\u001b[0m \u001b[0mself\u001b[0m\u001b[0;34m.\u001b[0m\u001b[0mpeek\u001b[0m\u001b[0;34m(\u001b[0m\u001b[0;34m\"<\"\u001b[0m\u001b[0;34m)\u001b[0m\u001b[0;34m:\u001b[0m\u001b[0;34m\u001b[0m\u001b[0;34m\u001b[0m\u001b[0m\n\u001b[0;32m--> 252\u001b[0;31m             \u001b[0muri\u001b[0m \u001b[0;34m=\u001b[0m \u001b[0mself\u001b[0m\u001b[0;34m.\u001b[0m\u001b[0meat\u001b[0m\u001b[0;34m(\u001b[0m\u001b[0mr_uriref\u001b[0m\u001b[0;34m)\u001b[0m\u001b[0;34m.\u001b[0m\u001b[0mgroup\u001b[0m\u001b[0;34m(\u001b[0m\u001b[0;36m1\u001b[0m\u001b[0;34m)\u001b[0m\u001b[0;34m\u001b[0m\u001b[0;34m\u001b[0m\u001b[0m\n\u001b[0m\u001b[1;32m    253\u001b[0m             \u001b[0muri\u001b[0m \u001b[0;34m=\u001b[0m \u001b[0munquote\u001b[0m\u001b[0;34m(\u001b[0m\u001b[0muri\u001b[0m\u001b[0;34m)\u001b[0m\u001b[0;34m\u001b[0m\u001b[0;34m\u001b[0m\u001b[0m\n",
      "\u001b[0;32m/Applications/Anaconda/anaconda3/lib/python3.8/site-packages/rdflib/plugins/parsers/ntriples.py\u001b[0m in \u001b[0;36meat\u001b[0;34m(self, pattern)\u001b[0m\n\u001b[1;32m    226\u001b[0m             \u001b[0;31m# print repr(self.line), type(self.line)\u001b[0m\u001b[0;34m\u001b[0m\u001b[0;34m\u001b[0m\u001b[0;34m\u001b[0m\u001b[0m\n\u001b[0;32m--> 227\u001b[0;31m             \u001b[0;32mraise\u001b[0m \u001b[0mParseError\u001b[0m\u001b[0;34m(\u001b[0m\u001b[0;34m\"Failed to eat %s at %s\"\u001b[0m \u001b[0;34m%\u001b[0m \u001b[0;34m(\u001b[0m\u001b[0mpattern\u001b[0m\u001b[0;34m.\u001b[0m\u001b[0mpattern\u001b[0m\u001b[0;34m,\u001b[0m \u001b[0mself\u001b[0m\u001b[0;34m.\u001b[0m\u001b[0mline\u001b[0m\u001b[0;34m)\u001b[0m\u001b[0;34m)\u001b[0m\u001b[0;34m\u001b[0m\u001b[0;34m\u001b[0m\u001b[0m\n\u001b[0m\u001b[1;32m    228\u001b[0m         \u001b[0mself\u001b[0m\u001b[0;34m.\u001b[0m\u001b[0mline\u001b[0m \u001b[0;34m=\u001b[0m \u001b[0mself\u001b[0m\u001b[0;34m.\u001b[0m\u001b[0mline\u001b[0m\u001b[0;34m[\u001b[0m\u001b[0mm\u001b[0m\u001b[0;34m.\u001b[0m\u001b[0mend\u001b[0m\u001b[0;34m(\u001b[0m\u001b[0;34m)\u001b[0m \u001b[0;34m:\u001b[0m\u001b[0;34m]\u001b[0m\u001b[0;34m\u001b[0m\u001b[0;34m\u001b[0m\u001b[0m\n",
      "\u001b[0;31mParserError\u001b[0m: Failed to eat <([^:]+:[^\\s\"<>]*)> at <!DOCTYPE html>",
      "\nDuring handling of the above exception, another exception occurred:\n",
      "\u001b[0;31mParserError\u001b[0m                               Traceback (most recent call last)",
      "\u001b[0;32m<ipython-input-23-9e23334e3a2d>\u001b[0m in \u001b[0;36m<module>\u001b[0;34m\u001b[0m\n\u001b[1;32m      3\u001b[0m \u001b[0;34m\u001b[0m\u001b[0m\n\u001b[1;32m      4\u001b[0m \u001b[0;31m# parse a local RDF file by specifying the format into the graph\u001b[0m\u001b[0;34m\u001b[0m\u001b[0;34m\u001b[0m\u001b[0;34m\u001b[0m\u001b[0m\n\u001b[0;32m----> 5\u001b[0;31m \u001b[0mresult\u001b[0m \u001b[0;34m=\u001b[0m \u001b[0mg\u001b[0m\u001b[0;34m.\u001b[0m\u001b[0mparse\u001b[0m\u001b[0;34m(\u001b[0m\u001b[0;34m\"../resources/artchives.nq\"\u001b[0m\u001b[0;34m,\u001b[0m \u001b[0mformat\u001b[0m\u001b[0;34m=\u001b[0m\u001b[0;34m'nquads'\u001b[0m\u001b[0;34m)\u001b[0m\u001b[0;34m\u001b[0m\u001b[0;34m\u001b[0m\u001b[0m\n\u001b[0m",
      "\u001b[0;32m/Applications/Anaconda/anaconda3/lib/python3.8/site-packages/rdflib/graph.py\u001b[0m in \u001b[0;36mparse\u001b[0;34m(self, source, publicID, format, location, file, data, **args)\u001b[0m\n\u001b[1;32m   1747\u001b[0m         \u001b[0mcontext\u001b[0m \u001b[0;34m=\u001b[0m \u001b[0mGraph\u001b[0m\u001b[0;34m(\u001b[0m\u001b[0mstore\u001b[0m\u001b[0;34m=\u001b[0m\u001b[0mself\u001b[0m\u001b[0;34m.\u001b[0m\u001b[0mstore\u001b[0m\u001b[0;34m,\u001b[0m \u001b[0midentifier\u001b[0m\u001b[0;34m=\u001b[0m\u001b[0mg_id\u001b[0m\u001b[0;34m)\u001b[0m\u001b[0;34m\u001b[0m\u001b[0;34m\u001b[0m\u001b[0m\n\u001b[1;32m   1748\u001b[0m         \u001b[0mcontext\u001b[0m\u001b[0;34m.\u001b[0m\u001b[0mremove\u001b[0m\u001b[0;34m(\u001b[0m\u001b[0;34m(\u001b[0m\u001b[0;32mNone\u001b[0m\u001b[0;34m,\u001b[0m \u001b[0;32mNone\u001b[0m\u001b[0;34m,\u001b[0m \u001b[0;32mNone\u001b[0m\u001b[0;34m)\u001b[0m\u001b[0;34m)\u001b[0m  \u001b[0;31m# hmm ?\u001b[0m\u001b[0;34m\u001b[0m\u001b[0;34m\u001b[0m\u001b[0m\n\u001b[0;32m-> 1749\u001b[0;31m         \u001b[0mcontext\u001b[0m\u001b[0;34m.\u001b[0m\u001b[0mparse\u001b[0m\u001b[0;34m(\u001b[0m\u001b[0msource\u001b[0m\u001b[0;34m,\u001b[0m \u001b[0mpublicID\u001b[0m\u001b[0;34m=\u001b[0m\u001b[0mpublicID\u001b[0m\u001b[0;34m,\u001b[0m \u001b[0mformat\u001b[0m\u001b[0;34m=\u001b[0m\u001b[0mformat\u001b[0m\u001b[0;34m,\u001b[0m \u001b[0;34m**\u001b[0m\u001b[0margs\u001b[0m\u001b[0;34m)\u001b[0m\u001b[0;34m\u001b[0m\u001b[0;34m\u001b[0m\u001b[0m\n\u001b[0m\u001b[1;32m   1750\u001b[0m         \u001b[0;32mreturn\u001b[0m \u001b[0mcontext\u001b[0m\u001b[0;34m\u001b[0m\u001b[0;34m\u001b[0m\u001b[0m\n\u001b[1;32m   1751\u001b[0m \u001b[0;34m\u001b[0m\u001b[0m\n",
      "\u001b[0;32m/Applications/Anaconda/anaconda3/lib/python3.8/site-packages/rdflib/graph.py\u001b[0m in \u001b[0;36mparse\u001b[0;34m(self, source, publicID, format, location, file, data, **args)\u001b[0m\n\u001b[1;32m   1250\u001b[0m         \u001b[0mparser\u001b[0m \u001b[0;34m=\u001b[0m \u001b[0mplugin\u001b[0m\u001b[0;34m.\u001b[0m\u001b[0mget\u001b[0m\u001b[0;34m(\u001b[0m\u001b[0mformat\u001b[0m\u001b[0;34m,\u001b[0m \u001b[0mParser\u001b[0m\u001b[0;34m)\u001b[0m\u001b[0;34m(\u001b[0m\u001b[0;34m)\u001b[0m\u001b[0;34m\u001b[0m\u001b[0;34m\u001b[0m\u001b[0m\n\u001b[1;32m   1251\u001b[0m         \u001b[0;32mtry\u001b[0m\u001b[0;34m:\u001b[0m\u001b[0;34m\u001b[0m\u001b[0;34m\u001b[0m\u001b[0m\n\u001b[0;32m-> 1252\u001b[0;31m             \u001b[0mparser\u001b[0m\u001b[0;34m.\u001b[0m\u001b[0mparse\u001b[0m\u001b[0;34m(\u001b[0m\u001b[0msource\u001b[0m\u001b[0;34m,\u001b[0m \u001b[0mself\u001b[0m\u001b[0;34m,\u001b[0m \u001b[0;34m**\u001b[0m\u001b[0margs\u001b[0m\u001b[0;34m)\u001b[0m\u001b[0;34m\u001b[0m\u001b[0;34m\u001b[0m\u001b[0m\n\u001b[0m\u001b[1;32m   1253\u001b[0m         \u001b[0;32mexcept\u001b[0m \u001b[0mSyntaxError\u001b[0m \u001b[0;32mas\u001b[0m \u001b[0mse\u001b[0m\u001b[0;34m:\u001b[0m\u001b[0;34m\u001b[0m\u001b[0;34m\u001b[0m\u001b[0m\n\u001b[1;32m   1254\u001b[0m             \u001b[0;32mif\u001b[0m \u001b[0mcould_not_guess_format\u001b[0m\u001b[0;34m:\u001b[0m\u001b[0;34m\u001b[0m\u001b[0;34m\u001b[0m\u001b[0m\n",
      "\u001b[0;32m/Applications/Anaconda/anaconda3/lib/python3.8/site-packages/rdflib/plugins/parsers/nquads.py\u001b[0m in \u001b[0;36mparse\u001b[0;34m(self, inputsource, sink, bnode_context, **kwargs)\u001b[0m\n\u001b[1;32m     72\u001b[0m                 \u001b[0mself\u001b[0m\u001b[0;34m.\u001b[0m\u001b[0mparseline\u001b[0m\u001b[0;34m(\u001b[0m\u001b[0mbnode_context\u001b[0m\u001b[0;34m)\u001b[0m\u001b[0;34m\u001b[0m\u001b[0;34m\u001b[0m\u001b[0m\n\u001b[1;32m     73\u001b[0m             \u001b[0;32mexcept\u001b[0m \u001b[0mParseError\u001b[0m \u001b[0;32mas\u001b[0m \u001b[0mmsg\u001b[0m\u001b[0;34m:\u001b[0m\u001b[0;34m\u001b[0m\u001b[0;34m\u001b[0m\u001b[0m\n\u001b[0;32m---> 74\u001b[0;31m                 \u001b[0;32mraise\u001b[0m \u001b[0mParseError\u001b[0m\u001b[0;34m(\u001b[0m\u001b[0;34m\"Invalid line (%s):\\n%r\"\u001b[0m \u001b[0;34m%\u001b[0m \u001b[0;34m(\u001b[0m\u001b[0mmsg\u001b[0m\u001b[0;34m,\u001b[0m \u001b[0m__line\u001b[0m\u001b[0;34m)\u001b[0m\u001b[0;34m)\u001b[0m\u001b[0;34m\u001b[0m\u001b[0;34m\u001b[0m\u001b[0m\n\u001b[0m\u001b[1;32m     75\u001b[0m \u001b[0;34m\u001b[0m\u001b[0m\n\u001b[1;32m     76\u001b[0m         \u001b[0;32mreturn\u001b[0m \u001b[0mself\u001b[0m\u001b[0;34m.\u001b[0m\u001b[0msink\u001b[0m\u001b[0;34m\u001b[0m\u001b[0;34m\u001b[0m\u001b[0m\n",
      "\u001b[0;31mParserError\u001b[0m: Invalid line (Failed to eat <([^:]+:[^\\s\"<>]*)> at <!DOCTYPE html>):\n'<!DOCTYPE html>'"
     ]
    }
   ],
   "source": [
    "# create an empty Graph\n",
    "g = rdflib.ConjunctiveGraph()\n",
    "\n",
    "# parse a local RDF file by specifying the format into the graph\n",
    "result = g.parse(\"../resources/artchives.nq\", format='nquads')"
   ]
  },
  {
   "cell_type": "code",
   "execution_count": 17,
   "id": "9f9e7670-c7cc-4337-a5dc-7fa6dc443609",
   "metadata": {},
   "outputs": [
    {
     "name": "stdout",
     "output_type": "stream",
     "text": [
      "0\n"
     ]
    }
   ],
   "source": [
    "print(len(g))\n"
   ]
  },
  {
   "cell_type": "code",
   "execution_count": 25,
   "id": "3146f266-33af-44ab-acb1-7f3088b73e42",
   "metadata": {},
   "outputs": [
    {
     "name": "stdout",
     "output_type": "stream",
     "text": [
      "Collecting sparqlwrapper\n",
      "  Downloading SPARQLWrapper-1.8.5-py3-none-any.whl (26 kB)\n",
      "Requirement already satisfied: rdflib>=4.0 in /Applications/Anaconda/anaconda3/lib/python3.8/site-packages (from sparqlwrapper) (6.0.2)\n",
      "Requirement already satisfied: isodate in /Applications/Anaconda/anaconda3/lib/python3.8/site-packages (from rdflib>=4.0->sparqlwrapper) (0.6.0)\n",
      "Requirement already satisfied: setuptools in /Applications/Anaconda/anaconda3/lib/python3.8/site-packages (from rdflib>=4.0->sparqlwrapper) (52.0.0.post20210125)\n",
      "Requirement already satisfied: pyparsing in /Applications/Anaconda/anaconda3/lib/python3.8/site-packages (from rdflib>=4.0->sparqlwrapper) (2.4.7)\n",
      "Requirement already satisfied: six in /Applications/Anaconda/anaconda3/lib/python3.8/site-packages (from isodate->rdflib>=4.0->sparqlwrapper) (1.15.0)\n",
      "Installing collected packages: sparqlwrapper\n",
      "Successfully installed sparqlwrapper-1.8.5\n",
      "Note: you may need to restart the kernel to use updated packages.\n"
     ]
    }
   ],
   "source": [
    "pip install sparqlwrapper"
   ]
  },
  {
   "cell_type": "code",
   "execution_count": null,
   "id": "62ae1ec3-3d3f-4c28-acb9-7e0982acecbd",
   "metadata": {},
   "outputs": [],
   "source": []
  }
 ],
 "metadata": {
  "kernelspec": {
   "display_name": "Python 3",
   "language": "python",
   "name": "python3"
  },
  "language_info": {
   "codemirror_mode": {
    "name": "ipython",
    "version": 3
   },
   "file_extension": ".py",
   "mimetype": "text/x-python",
   "name": "python",
   "nbconvert_exporter": "python",
   "pygments_lexer": "ipython3",
   "version": "3.8.8"
  }
 },
 "nbformat": 4,
 "nbformat_minor": 5
}
